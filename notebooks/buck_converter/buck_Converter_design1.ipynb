{
 "cells": [
  {
   "cell_type": "code",
   "execution_count": 1,
   "metadata": {},
   "outputs": [],
   "source": [
    "import numpy as np\n",
    "import matplotlib.pyplot as plt"
   ]
  },
  {
   "cell_type": "code",
   "execution_count": 4,
   "metadata": {},
   "outputs": [],
   "source": [
    "from handcalcs import render"
   ]
  },
  {
   "cell_type": "code",
   "execution_count": 23,
   "metadata": {},
   "outputs": [
    {
     "data": {
      "text/latex": [
       "\\[\n",
       "\\begin{aligned}\n",
       "R &= 50 \\; \\;\\textrm{(Load Resistance (Ohm's))}\n",
       "\\\\[10pt]\n",
       "\\mathrm{Rf}_{i} &= 0.050 \\; \\;\\textrm{(inductor Ripple Factor)}\n",
       "\\\\[10pt]\n",
       "f &= 20000.000 \\; \\;\\textrm{(Switch frequency (Hz))}\n",
       "\\\\[10pt]\n",
       "U &= 10 \\; \\;\\textrm{(Input voltage)}\n",
       "\\\\[10pt]\n",
       "\\mathrm{Vo} &= 4 \\; \\;\\textrm{(Output Voltage)}\n",
       "\\\\[10pt]\n",
       "\\mathrm{Il} &= \\frac{ \\mathrm{Vo} }{ R }  = \\frac{ 4 }{ 50 } &= 0.080 \\; \\;\\textrm{(Avg Inductor Current)}\n",
       "\\\\[10pt]\n",
       "D &= \\frac{ \\mathrm{Vo} }{ U }  = \\frac{ 4 }{ 10 } &= 0.400 \\; \\;\\textrm{(Duty Ratio)}\n",
       "\\\\[10pt]\n",
       "L &= \\left( U - \\mathrm{Vo} \\right) \\cdot \\frac{ D }{ 2 \\cdot \\mathrm{Rf}_{i} \\cdot \\mathrm{Il} \\cdot f }  = \\left( 10 - 4 \\right) \\cdot \\frac{ 0.400 }{ 2 \\cdot 0.050 \\cdot 0.080 \\cdot 20000.000 } &= 0.015 \\; \\;\\textrm{(Min L)}\n",
       "\\\\[10pt]\n",
       "\\mathrm{RF}_{v} &= 0.010 \\; \n",
       "\\\\[10pt]\n",
       "C &= T \\cdot \\frac{ 2 \\cdot \\mathrm{Rf}_{i} \\cdot \\mathrm{Il} }{ 8 \\cdot 2 \\cdot \\mathrm{Vo} \\cdot \\mathrm{RF}_{v} }  = 0.000 \\cdot \\frac{ 2 \\cdot 0.050 \\cdot 0.080 }{ 8 \\cdot 2 \\cdot 4 \\cdot 0.010 } &= 0.000  \n",
       "\\end{aligned}\n",
       "\\]"
      ],
      "text/plain": [
       "<IPython.core.display.Latex object>"
      ]
     },
     "metadata": {},
     "output_type": "display_data"
    }
   ],
   "source": [
    "%%render\n",
    "\n",
    "R = 50 # Load Resistance (Ohm's)\n",
    "Rf_i = .05 # inductor Ripple Factor\n",
    "f = 20e+03 # Switch frequency (Hz)\n",
    "\n",
    "U =10  # Input voltage\n",
    "Vo = 4 # Output Voltage\n",
    "Il = Vo/R # Avg Inductor Current\n",
    "\n",
    "\n",
    "D = Vo/U # Duty Ratio\n",
    "\n",
    "\n",
    "L = (U-Vo)*D/(2*Rf_i*Il*f) # Min L\n",
    "\n",
    "RF_v = .01\n",
    "\n",
    "C = T*(2*Rf_i*Il)/(8*2*Vo*RF_v)"
   ]
  },
  {
   "cell_type": "code",
   "execution_count": 24,
   "metadata": {},
   "outputs": [
    {
     "name": "stdout",
     "output_type": "stream",
     "text": [
      "T: 5e-05 DT: 2e-05 C: 6.25e-07\n"
     ]
    }
   ],
   "source": [
    "\n",
    "T = 1/f \n",
    "DT = D*T\n",
    "\n",
    "print(f\"T: {T} DT: {DT} C: {C}\")"
   ]
  }
 ],
 "metadata": {
  "kernelspec": {
   "display_name": "Python 3",
   "language": "python",
   "name": "python3"
  },
  "language_info": {
   "codemirror_mode": {
    "name": "ipython",
    "version": 3
   },
   "file_extension": ".py",
   "mimetype": "text/x-python",
   "name": "python",
   "nbconvert_exporter": "python",
   "pygments_lexer": "ipython3",
   "version": "3.13.2"
  }
 },
 "nbformat": 4,
 "nbformat_minor": 2
}
